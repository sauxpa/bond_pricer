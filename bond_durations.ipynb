{
 "cells": [
  {
   "cell_type": "code",
   "execution_count": 1,
   "metadata": {},
   "outputs": [],
   "source": [
    "from collections import defaultdict\n",
    "import matplotlib.pyplot as plt\n",
    "from matplotlib.ticker import FuncFormatter\n",
    "import seaborn as sns\n",
    "sns.set()\n",
    "\n",
    "from bond_pricer import FixedCouponBond, ONE_PCT, ONE_BP"
   ]
  },
  {
   "cell_type": "markdown",
   "metadata": {},
   "source": [
    "### Bond term sheet\n",
    "* Maturity: 3 years\n",
    "* Frequency : semiannual\n",
    "* 10% coupon"
   ]
  },
  {
   "cell_type": "code",
   "execution_count": 2,
   "metadata": {},
   "outputs": [],
   "source": [
    "coupon = 10 * ONE_PCT\n",
    "principal = 100 * ONE_PCT\n",
    "coupon_frequency = 2\n",
    "maturity = 3\n",
    "\n",
    "term_sheet = defaultdict(\n",
    "    None,\n",
    "    {\n",
    "        'coupon': coupon,\n",
    "        'principal': principal,\n",
    "        'coupon_frequency': coupon_frequency,\n",
    "        'maturity': maturity,\n",
    "    }\n",
    ")\n",
    "\n",
    "bond = FixedCouponBond(term_sheet)"
   ]
  },
  {
   "cell_type": "markdown",
   "metadata": {},
   "source": [
    "### Fix bond price at 95\n",
    "\n",
    "Recall the yield/price formula:\n",
    "\n",
    "$$\n",
    "P = \\sum_{t=1}^{T} \\frac{\\delta\\times Coupon}{(1+\\delta\\times YTM)^{\\frac{t}{\\delta}}} + \\frac{Principal}{(1+\\delta\\times YTM)^{\\frac{T}{\\delta}}}.\n",
    "$$\n",
    "\n",
    "where $\\delta$ is the day count fraction, $T$ the maturity."
   ]
  },
  {
   "cell_type": "code",
   "execution_count": 3,
   "metadata": {},
   "outputs": [
    {
     "name": "stdout",
     "output_type": "stream",
     "text": [
      "Price: 95.00%\n",
      "YTM: 12.03%\n"
     ]
    }
   ],
   "source": [
    "bond.marking_mode = 'price'\n",
    "bond.mark = 95 * ONE_PCT\n",
    "\n",
    "print('Price: {:.2%}'.format(bond.price))\n",
    "print('YTM: {:.2%}'.format(bond.ytm))"
   ]
  },
  {
   "cell_type": "markdown",
   "metadata": {},
   "source": [
    "### DV01\n",
    "\n",
    "The **Dollar Value of an 01 (basis point)** aka **DV01** represents the change in bond price for a 1 basis point change in yield to maturity. \n",
    "\n",
    "The derivative of $P$ with respect to $YTM$ is :\n",
    "\n",
    "$$\n",
    "\\frac{\\Delta P}{\\Delta YTM} = \\frac{1}{1+\\delta\\times Y} \\bigg( \\sum_{t=1}^{T}\\frac{\\delta\\times Coupon\\times t}{(1+\\delta\\times YTM)^{\\frac{t}{\\delta}}} + \\frac{Principal\\times T}{(1+\\delta\\times YTM)^{\\frac{T}{\\delta}}} \\bigg).\n",
    "$$\n",
    "\n",
    "Due to the inverse relation between price and yield, a 1 bp increase in YTM pushes the price down. Therefore in practice, market participants define DV01 and the inverse of the this quantity:\n",
    "\n",
    "$$\n",
    "DV01 = - \\frac{\\Delta P}{\\Delta YTM}\n",
    "$$\n",
    "\n",
    "With this convention, when a trader has long position (he bought and held the bond in inventory), its associated DV01 is positive.\n",
    "\n",
    "In other words, DV01 represents the **yield risk** of a bond investor i.e its expected PnL under a given change in yield.\n",
    "\n",
    "In practice, rather than using the formula, it can be approximated by finite difference, i.e by pricing the bond with two different yields, separated by 1 bp:\n",
    "\n",
    "$$\n",
    "DV01 \\approx \\frac{P(YTM-1bp) - P(YTM)}{1bp} \n",
    "$$"
   ]
  },
  {
   "cell_type": "code",
   "execution_count": 4,
   "metadata": {},
   "outputs": [
    {
     "name": "stdout",
     "output_type": "stream",
     "text": [
      "DV01: 2.3788\n",
      "DV01 (finite difference): 2.3792\n"
     ]
    }
   ],
   "source": [
    "print('DV01: {:.4f}'.format(bond.dv01))\n",
    "approx_dv01 = (bond.yield_to_price(bond.ytm - ONE_BP) - bond.yield_to_price(bond.ytm)) / ONE_BP\n",
    "print('DV01 (finite difference): {:.4f}'.format(approx_dv01))"
   ]
  },
  {
   "cell_type": "markdown",
   "metadata": {},
   "source": [
    "### Duration\n",
    "\n",
    "Notice how the terms $t$ appears in the above formula for $\\frac{\\Delta P}{\\Delta YTM}$ : each term inside the sum is homogeneous to a duration. Up to a multiplicative factor, the DV01 is the sum of yield-discounted expected cashflows weighted by their durations.\n",
    "\n",
    "This leads to a few alternative definitions of DV01 that higlights this resemblance to a duration. First we have the **Modified Duration**, which expresses the DV01 risk as a fraction of the bond price :\n",
    "\n",
    "$$\n",
    "\\text{Modified Duration} = \\frac{1}{P} \\frac{\\Delta P}{\\Delta YTM} = -\\frac{1}{P} DV01.\n",
    "$$\n",
    "\n",
    "Another definition is the **Macaulay Duration**, which is the \\textit{relative} change in price $\\frac{\\Delta P}{P}$ with respect to a \\textit{relative} change in yield $\\frac{\\Delta YTM}{1+\\delta\\times YTM}$:\n",
    "\n",
    "$$\n",
    "\\text{Macaulay Duration} =\n",
    "\\frac{1}{P} \\bigg( \\sum_{t=1}^{T}\\frac{\\delta\\times Coupon\\times t}{(1+\\delta\\times YTM)^{\\frac{t}{\\delta}}} + \\frac{Principal\\times T}{(1+\\delta\\times YTM)^{\\frac{T}{\\delta}}} \\bigg).\n",
    "$$\n",
    "\n",
    "\n"
   ]
  },
  {
   "cell_type": "code",
   "execution_count": 5,
   "metadata": {},
   "outputs": [
    {
     "name": "stdout",
     "output_type": "stream",
     "text": [
      "Modified Duration: 2.5040\n",
      "Macaulay Duration: 2.6547\n"
     ]
    }
   ],
   "source": [
    "print('Modified Duration: {:.4f}'.format(bond.modified_duration))\n",
    "print('Macaulay Duration: {:.4f}'.format(bond.macaulay_duration))"
   ]
  },
  {
   "cell_type": "markdown",
   "metadata": {},
   "source": [
    "### Macaulay duration as a time to equilibrium\n",
    "\n",
    "The Macaulay duration has a nice interpretation that helps visualize duration. \n",
    "\n",
    "Imagine each payment, coupons and principal, as a marble placed on a board at a position corresponding to its payment date with a weight equal to its value. Then the Macaulay duration is the center of mass of the board, that is the point of equilibrium of the board. \n",
    "\n",
    "In more financial words, it is the average number of years before the investment breaks even, after discounting by the yield and taking into account the remaining time before principal payment. "
   ]
  },
  {
   "cell_type": "code",
   "execution_count": 6,
   "metadata": {},
   "outputs": [],
   "source": [
    "def plot_macaulay(bond):\n",
    "    fig, ax = plt.subplots(figsize=(11, 5), nrows=1, ncols=1)\n",
    "\n",
    "    ax.bar(bond.coupon_dates, bond.coupon_cashflows, width=0.25, alpha=1.0, label='coupon')\n",
    "    ax.bar(bond.maturity, bond.principal, width=0.25, alpha=0.6, label='principal')\n",
    "\n",
    "    ax.axvline(bond.macaulay_duration, 0.1, linestyle='dashed', alpha=0.8)\n",
    "    ax.annotate('Macaulay duration\\n--> the board is at equilibrium', \n",
    "                (bond.macaulay_duration-0.7, 0.7)\n",
    "               )\n",
    "\n",
    "    ax.axhline(0)\n",
    "\n",
    "    ax.xaxis.set_major_formatter(FuncFormatter(lambda x, _: 'S{:.0f}'.format(x * bond.coupon_frequency)))\n",
    "    ax.yaxis.set_major_formatter(FuncFormatter(lambda y, _: '{:.0%}'.format(y)))\n",
    "    ax.legend(loc='upper left')\n",
    "\n",
    "    ax.set_ylim(-0.1, 1)\n",
    "\n",
    "    triangle = [\n",
    "        [bond.macaulay_duration, 0],\n",
    "        [bond.macaulay_duration-0.5, -0.1],\n",
    "        [bond.macaulay_duration+0.5, -0.1]\n",
    "    ]\n",
    "\n",
    "    t1 = plt.Polygon(triangle, color='b', alpha=0.5)\n",
    "    plt.gca().add_patch(t1)\n",
    "\n",
    "    plt.tight_layout()\n",
    "    plt.show()"
   ]
  },
  {
   "cell_type": "code",
   "execution_count": 7,
   "metadata": {},
   "outputs": [
    {
     "data": {
      "image/png": "[encoded data removed]",
      "text/plain": [
       "<Figure size 792x360 with 1 Axes>"
      ]
     },
     "metadata": {
      "needs_background": "light"
     },
     "output_type": "display_data"
    }
   ],
   "source": [
    "plot_macaulay(bond)"
   ]
  },
  {
   "cell_type": "markdown",
   "metadata": {},
   "source": [
    "### Macaulay duration for a zero-coupon bond\n",
    "\n",
    "Note that for a zero-coupon bond, the Macaulay duration is exactly the maturity: since no running interest is paid, after discounting the yield the investment can only break even when receiving the only due cashflow."
   ]
  },
  {
   "cell_type": "code",
   "execution_count": 8,
   "metadata": {},
   "outputs": [],
   "source": [
    "principal = 100 * ONE_PCT\n",
    "coupon_frequency = 2\n",
    "maturity = 3\n",
    "\n",
    "term_sheet_zc = defaultdict(\n",
    "    None,\n",
    "    {\n",
    "        'coupon': 0.0,\n",
    "        'principal': principal,\n",
    "        'coupon_frequency': coupon_frequency,\n",
    "        'maturity': maturity,\n",
    "    }\n",
    ")\n",
    "\n",
    "zc = FixedCouponBond(\n",
    "    term_sheet_zc,\n",
    "    marking_mode='price',\n",
    "    mark=95*ONE_PCT,\n",
    ")"
   ]
  },
  {
   "cell_type": "code",
   "execution_count": 9,
   "metadata": {},
   "outputs": [
    {
     "name": "stdout",
     "output_type": "stream",
     "text": [
      "Macaulay Duration: 3.0000\n"
     ]
    }
   ],
   "source": [
    "print('Macaulay Duration: {:.4f}'.format(zc.macaulay_duration))"
   ]
  },
  {
   "cell_type": "code",
   "execution_count": 10,
   "metadata": {},
   "outputs": [
    {
     "data": {
      "image/png": "[encoded data removed]",
      "text/plain": [
       "<Figure size 792x360 with 1 Axes>"
      ]
     },
     "metadata": {
      "needs_background": "light"
     },
     "output_type": "display_data"
    }
   ],
   "source": [
    "plot_macaulay(zc)"
   ]
  },
  {
   "cell_type": "markdown",
   "metadata": {},
   "source": [
    "### Risk management using duration\n",
    "\n",
    "The Macaulay interpretation gives an interesting insight to compare bond risks: all else being equal, the longer the maturity, the longer the Macaulay duration, and therefore the larger the risk. Another interpretation is that longer-dated bonds bear more cashflows, and changes in yield affect all cashflows, so longer-dated bonds are more prone to large swings in price.\n",
    "\n",
    "A good rule of thumb to quickly assess the risk of a bond is that it loses as many price points per % of yield increase as there are years before maturity. This is most accurate when coupons are low and price is close to par, and the reason is that in this case the DV01 is close to the Macaulay duration, which itself is close to the maturity. "
   ]
  },
  {
   "cell_type": "code",
   "execution_count": null,
   "metadata": {},
   "outputs": [],
   "source": []
  }
 ],
 "metadata": {
  "kernelspec": {
   "display_name": "Python 3",
   "language": "python",
   "name": "python3"
  },
  "language_info": {
   "codemirror_mode": {
    "name": "ipython",
    "version": 3
   },
   "file_extension": ".py",
   "mimetype": "text/x-python",
   "name": "python",
   "nbconvert_exporter": "python",
   "pygments_lexer": "ipython3",
   "version": "3.7.4"
  }
 },
 "nbformat": 4,
 "nbformat_minor": 2
}
