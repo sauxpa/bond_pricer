{
 "cells": [
  {
   "cell_type": "code",
   "execution_count": 1,
   "metadata": {},
   "outputs": [],
   "source": [
    "import numpy as np\n",
    "from collections import defaultdict\n",
    "import matplotlib.pyplot as plt\n",
    "from matplotlib.ticker import FuncFormatter\n",
    "import seaborn as sns\n",
    "sns.set()\n",
    "\n",
    "from bond_pricer import FixedCouponBond, ONE_PCT, ONE_BP"
   ]
  },
  {
   "cell_type": "markdown",
   "metadata": {},
   "source": [
    "### Bond term sheet\n",
    "* Maturity: 3 years\n",
    "* Frequency : semiannual\n",
    "* 3% coupon"
   ]
  },
  {
   "cell_type": "code",
   "execution_count": 2,
   "metadata": {},
   "outputs": [],
   "source": [
    "coupon = 3 * ONE_PCT\n",
    "principal = 100 * ONE_PCT\n",
    "coupon_frequency = 2\n",
    "maturity = 3\n",
    "\n",
    "term_sheet = defaultdict(\n",
    "    None,\n",
    "    {\n",
    "        'coupon': coupon,\n",
    "        'principal': principal,\n",
    "        'coupon_frequency': coupon_frequency,\n",
    "        'maturity': maturity,\n",
    "    }\n",
    ")\n",
    "\n",
    "bond = FixedCouponBond(\n",
    "    term_sheet,\n",
    ")"
   ]
  },
  {
   "cell_type": "markdown",
   "metadata": {},
   "source": [
    "### First check that without credit risk and without rates volatility, a constant 3% short interest rate prices the bond close to par (the same way a 3% yield would)"
   ]
  },
  {
   "cell_type": "code",
   "execution_count": 3,
   "metadata": {},
   "outputs": [],
   "source": [
    "model_params = {\n",
    "    'mean_reversion_ir': 3.0,\n",
    "    'mean_reversion_cd': 1.0,\n",
    "    'long_term_ir': 0 * ONE_BP,\n",
    "    'long_term_cd': 0 * ONE_BP,\n",
    "    'vol_ir': 0 * ONE_BP,\n",
    "    'vol_cd': 0 * ONE_BP,\n",
    "    'corr_ir_cd': 0 * ONE_PCT,\n",
    "}\n",
    "\n",
    "sim_config = defaultdict(\n",
    "    None,\n",
    "    {\n",
    "        'model_name': 'Vasicek',\n",
    "        'init_ir': 0 * ONE_BP,\n",
    "        'init_cd': 0 * ONE_BP,\n",
    "        'scheme_steps': 5 * maturity,  # ~1 per week\n",
    "        'n_mc_sim': 10,\n",
    "        'model_params': model_params,\n",
    "    }\n",
    ")\n",
    "\n",
    "bond.recovery_rate = 0.4\n",
    "bond.funding_rate = 300 * ONE_BP\n",
    "bond.sim_config = sim_config"
   ]
  },
  {
   "cell_type": "code",
   "execution_count": 4,
   "metadata": {},
   "outputs": [
    {
     "name": "stdout",
     "output_type": "stream",
     "text": [
      "Model price: 99.94%\n"
     ]
    }
   ],
   "source": [
    "np.random.seed(2)  # Fix random seed (for reproducibility of MC simulations)\n",
    "print('Model price: {:.2%}'.format(bond.model_price))"
   ]
  },
  {
   "cell_type": "markdown",
   "metadata": {},
   "source": [
    "### Then check that increasing the hazard rate decreases the price"
   ]
  },
  {
   "cell_type": "code",
   "execution_count": 5,
   "metadata": {},
   "outputs": [],
   "source": [
    "model_params = {\n",
    "    'mean_reversion_ir': 3.0,\n",
    "    'mean_reversion_cd': 1.0,\n",
    "    'long_term_ir': 0 * ONE_BP,\n",
    "    'long_term_cd': 300 * ONE_BP,\n",
    "    'vol_ir': 0 * ONE_BP,\n",
    "    'vol_cd': 0 * ONE_BP,\n",
    "    'corr_ir_cd': 0 * ONE_PCT,\n",
    "}\n",
    "\n",
    "sim_config = defaultdict(\n",
    "    None,\n",
    "    {\n",
    "        'model_name': 'Vasicek',\n",
    "        'init_ir': 0 * ONE_BP,\n",
    "        'init_cd': 300 * ONE_BP,\n",
    "        'scheme_steps': 5 * maturity,  # ~1 per week\n",
    "        'n_mc_sim': 10,\n",
    "        'model_params': model_params,\n",
    "    }\n",
    ")\n",
    "\n",
    "bond.recovery_rate = 0.4\n",
    "bond.funding_rate = 300 * ONE_BP\n",
    "bond.sim_config = sim_config"
   ]
  },
  {
   "cell_type": "code",
   "execution_count": 6,
   "metadata": {},
   "outputs": [
    {
     "name": "stdout",
     "output_type": "stream",
     "text": [
      "Model price: 94.24%\n"
     ]
    }
   ],
   "source": [
    "np.random.seed(2)  # Fix random seed (for reproducibility of MC simulations)\n",
    "print('Model price: {:.2%}'.format(bond.model_price))"
   ]
  },
  {
   "cell_type": "code",
   "execution_count": null,
   "metadata": {},
   "outputs": [],
   "source": []
  }
 ],
 "metadata": {
  "kernelspec": {
   "display_name": "Python 3",
   "language": "python",
   "name": "python3"
  },
  "language_info": {
   "codemirror_mode": {
    "name": "ipython",
    "version": 3
   },
   "file_extension": ".py",
   "mimetype": "text/x-python",
   "name": "python",
   "nbconvert_exporter": "python",
   "pygments_lexer": "ipython3",
   "version": "3.7.4"
  }
 },
 "nbformat": 4,
 "nbformat_minor": 2
}
